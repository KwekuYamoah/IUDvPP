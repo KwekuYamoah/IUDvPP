{
 "cells": [
  {
   "cell_type": "markdown",
   "metadata": {},
   "source": [
    "# Libraries and Imports"
   ]
  },
  {
   "cell_type": "code",
   "execution_count": 1,
   "metadata": {},
   "outputs": [
    {
     "name": "stdout",
     "output_type": "stream",
     "text": [
      "Requirement already satisfied: pydub in /Users/kayems/.pyenv/versions/3.11.8/envs/ltlenv/lib/python3.11/site-packages (0.25.1)\n",
      "\n",
      "\u001b[1m[\u001b[0m\u001b[34;49mnotice\u001b[0m\u001b[1;39;49m]\u001b[0m\u001b[39;49m A new release of pip is available: \u001b[0m\u001b[31;49m24.0\u001b[0m\u001b[39;49m -> \u001b[0m\u001b[32;49m24.1.2\u001b[0m\n",
      "\u001b[1m[\u001b[0m\u001b[34;49mnotice\u001b[0m\u001b[1;39;49m]\u001b[0m\u001b[39;49m To update, run: \u001b[0m\u001b[32;49mpip install --upgrade pip\u001b[0m\n",
      "Note: you may need to restart the kernel to use updated packages.\n"
     ]
    }
   ],
   "source": [
    "%pip install pydub"
   ]
  },
  {
   "cell_type": "code",
   "execution_count": 7,
   "metadata": {},
   "outputs": [],
   "source": [
    "import sys\n",
    "import os\n",
    "import subprocess\n",
    "\n",
    "# adding the directory containing asr/asr_pipeline.py to the Python path\n",
    "sys.path.append(os.path.abspath(\"../asr\"))"
   ]
  },
  {
   "cell_type": "code",
   "execution_count": 3,
   "metadata": {},
   "outputs": [],
   "source": [
    "from pydub import AudioSegment\n",
    "from asr_pipeline import asr_infer_pipeline"
   ]
  },
  {
   "cell_type": "markdown",
   "metadata": {},
   "source": [
    "# ASR\n",
    "Section to load audio from disk and get transcript"
   ]
  },
  {
   "cell_type": "code",
   "execution_count": 4,
   "metadata": {},
   "outputs": [],
   "source": [
    "def convert_to_wav(input_file: str, output_file: str) -> str:\n",
    "    \"\"\"\n",
    "    Converts an audio file to .wav format.\n",
    "\n",
    "    Args:\n",
    "        input_file (str): The path to the input audio file.\n",
    "        output_file (str): The path to the output .wav file.\n",
    "\n",
    "    Returns:\n",
    "        str: The path to the converted .wav file.\n",
    "    \"\"\"\n",
    "    # Load the audio file\n",
    "    audio = AudioSegment.from_file(input_file)\n",
    "\n",
    "    # Export as .wav\n",
    "    audio.export(output_file, format=\"wav\")\n",
    "\n",
    "    return output_file"
   ]
  },
  {
   "cell_type": "markdown",
   "metadata": {},
   "source": [
    "Covert audio file to wav format"
   ]
  },
  {
   "cell_type": "code",
   "execution_count": 5,
   "metadata": {},
   "outputs": [],
   "source": [
    "input_file_path = \"../ltl/test_samples/test01.m4a\"  \n",
    "output_file_path = \"../ltl/test_samples/test01.wav\"  \n",
    "\n",
    "converted_file = convert_to_wav(input_file_path, output_file_path)\n",
    "\n"
   ]
  },
  {
   "cell_type": "code",
   "execution_count": 9,
   "metadata": {},
   "outputs": [],
   "source": [
    "transcript = asr_infer_pipeline(converted_file) # transcribe file"
   ]
  },
  {
   "cell_type": "markdown",
   "metadata": {},
   "source": [
    "# Create TextGrid File"
   ]
  },
  {
   "cell_type": "code",
   "execution_count": 20,
   "metadata": {},
   "outputs": [],
   "source": [
    "def call_aeneas_dynamic(audio_file_path: str, text_transcript: str) -> str:\n",
    "    \"\"\"\n",
    "    Call Aeneas to generate a TextGrid file for the given audio file and transcript.\n",
    "\n",
    "    Args:\n",
    "        audio_file_path (str): The path to the audio file.\n",
    "        text_transcript (str): The transcription text.\n",
    "\n",
    "    Returns:\n",
    "        str: The relative path to the generated TextGrid file.\n",
    "\n",
    "    Raises:\n",
    "        subprocess.CalledProcessError: If the command to run Aeneas fails.\n",
    "    \"\"\"\n",
    "    # Define directories based on the current working directory\n",
    "    current_dir = os.getcwd()\n",
    "    PROJECT_DIR = os.path.abspath(os.path.join(current_dir, '..'))\n",
    "    AENEAS_DIR = os.path.join(PROJECT_DIR, 'aeneas')\n",
    "    TEMP_TEXT_FILE_PATH = os.path.join(PROJECT_DIR, 'temp_transcription.txt')\n",
    "    TEXT_GRID_DIR = os.path.join(current_dir, 'text_grid_files')  # Create a text_grid_files folder in the current directory\n",
    "\n",
    "    # Ensure the output directory exists\n",
    "    if not os.path.exists(TEXT_GRID_DIR):\n",
    "        os.makedirs(TEXT_GRID_DIR)\n",
    "        print(f\"Created directory {TEXT_GRID_DIR}\")\n",
    "\n",
    "    # Write the transcription text to the temp file\n",
    "    with open(TEMP_TEXT_FILE_PATH, 'w', encoding='utf-8') as temp_text_file:\n",
    "        for word in text_transcript.split():\n",
    "            temp_text_file.write(word + '\\n')\n",
    "\n",
    "    # Define the output file path\n",
    "    output_file_path = os.path.join(TEXT_GRID_DIR, f\"{os.path.splitext(os.path.basename(audio_file_path))[0]}.TextGrid\")\n",
    "\n",
    "    try:\n",
    "        # Change to the aeneas directory\n",
    "        os.chdir(AENEAS_DIR)\n",
    "\n",
    "        # Define the command to run aeneas\n",
    "        command = [\n",
    "            'python3', '-m', 'aeneas.tools.execute_task',\n",
    "            audio_file_path,\n",
    "            TEMP_TEXT_FILE_PATH,\n",
    "            'task_language=eng|is_text_type=plain|os_task_file_format=aud',\n",
    "            output_file_path\n",
    "        ]\n",
    "\n",
    "        # Run the command\n",
    "        subprocess.run(command, check=True)\n",
    "        print(f\"Generated TextGrid for {audio_file_path} to {output_file_path}\")\n",
    "    except subprocess.CalledProcessError as e:\n",
    "        print(f\"Failed to generate TextGrid for {audio_file_path}: {e}\")\n",
    "    finally:\n",
    "        # Return to the original directory\n",
    "        os.chdir(current_dir)\n",
    "        # Clean up the temporary text file\n",
    "        if os.path.exists(TEMP_TEXT_FILE_PATH):\n",
    "            os.remove(TEMP_TEXT_FILE_PATH)\n",
    "\n",
    "    return os.path.relpath(output_file_path, start=current_dir)\n"
   ]
  },
  {
   "cell_type": "code",
   "execution_count": 21,
   "metadata": {},
   "outputs": [
    {
     "name": "stdout",
     "output_type": "stream",
     "text": [
      "Created directory /Users/kayems/Library/CloudStorage/OneDrive-AshesiUniversity/IUDvPP/ltl/text_grid_files\n",
      "[INFO] Validating config string (specify --skip-validator to bypass)...\n",
      "[INFO] Validating config string... done\n",
      "[INFO] Creating task...\n",
      "[INFO] Creating task... done\n",
      "[INFO] Executing task...\n",
      "[INFO] Executing task... done\n",
      "[INFO] Creating output sync map file...\n",
      "[INFO] Creating output sync map file... done\n",
      "\u001b[92m[INFO] Created file '/Users/kayems/Library/CloudStorage/OneDrive-AshesiUniversity/IUDvPP/ltl/text_grid_files/test01.TextGrid'\u001b[0m\n",
      "Generated TextGrid for ../ltl/test_samples/test01.wav to /Users/kayems/Library/CloudStorage/OneDrive-AshesiUniversity/IUDvPP/ltl/text_grid_files/test01.TextGrid\n",
      "TextGrid saved to: text_grid_files/test01.TextGrid\n"
     ]
    }
   ],
   "source": [
    "# Example usage:\n",
    "audio_file_path = \"../ltl/test_samples/test01.wav\"  # Replace with the path to your audio file\n",
    "text_transcript = transcript  # Replace with your transcription text\n",
    "\n",
    "output_text_grid = call_aeneas_dynamic(audio_file_path, text_transcript)\n",
    "print(f\"TextGrid saved to: {output_text_grid}\")"
   ]
  }
 ],
 "metadata": {
  "kernelspec": {
   "display_name": "ltlenv",
   "language": "python",
   "name": "python3"
  },
  "language_info": {
   "codemirror_mode": {
    "name": "ipython",
    "version": 3
   },
   "file_extension": ".py",
   "mimetype": "text/x-python",
   "name": "python",
   "nbconvert_exporter": "python",
   "pygments_lexer": "ipython3",
   "version": "3.11.8"
  }
 },
 "nbformat": 4,
 "nbformat_minor": 2
}
