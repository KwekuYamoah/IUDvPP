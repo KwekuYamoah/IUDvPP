{
 "cells": [
  {
   "cell_type": "code",
   "execution_count": 1,
   "metadata": {},
   "outputs": [],
   "source": [
    "%load_ext autoreload\n",
    "%autoreload 2\n",
    "from llm_utils import limp_llm_plan, build_intent_dict"
   ]
  },
  {
   "cell_type": "code",
   "execution_count": null,
   "metadata": {},
   "outputs": [],
   "source": [
    "## Test instructions:\n",
    "\"Pick up the book on the table with the red cover.\"\n",
    "\"Place the vase near the flowers on the table.\"\n",
    "\"Place the coke can beside the pringles on the counter.\"\n",
    "\"Bring the book and the magazine on the nightstand.\"\n",
    "\"Bring the mug from the table near the sink.\""
   ]
  },
  {
   "cell_type": "code",
   "execution_count": 3,
   "metadata": {},
   "outputs": [],
   "source": [
    "## Test example\n",
    "# Transcript: place the coke can beside the pringles on the counter\n",
    "\n",
    "# interpretation_1\n",
    "# \"Place the coke can (which is currently beside the pringles) on some counter.\"\n",
    "intent_labels_1 = {\"place\": 0, \"the\": 0, \"coke\": 1, \"can\": 1, \"beside\": 0, \"the\": 0, \"pringles\": 2, \"on\": 0, \"the\": 0, \"counter\": 1}\n",
    "\n",
    "\n",
    "# interpretation_2\n",
    "# \"Take the coke can (which is somewhere else) and place it beside the pringles (that are already on the counter).\",\n",
    "intent_labels_2 = {\"place\": 0,\"the\": 0,\"coke\": 1,\"can\": 1,\"beside\": 0,\"the\": 0,\"pringles\": 1,\"on\": 0,\"the\": 0,\"counter\": 2}\n"
   ]
  },
  {
   "cell_type": "code",
   "execution_count": 4,
   "metadata": {},
   "outputs": [],
   "source": [
    "instruction = input(\"Enter instruction: \")"
   ]
  },
  {
   "cell_type": "code",
   "execution_count": 5,
   "metadata": {},
   "outputs": [],
   "source": [
    "passedin_intent_dict = {'Goal_intent': ['coke', 'can', 'counter'],\n",
    " 'Avoidance_intent': [],\n",
    " 'Detail_intent': []}"
   ]
  },
  {
   "cell_type": "code",
   "execution_count": null,
   "metadata": {},
   "outputs": [],
   "source": [
    "# baseline_choice = \"intent_label\"\n",
    "passedin_intent_dict = build_intent_dict(intent_labels_1)\n",
    "\n",
    "baseline_choice = \"asr\"\n",
    "\n",
    "\n",
    "baseline_prompt_path = f\"prompts/{baseline_choice}_prompt.txt\"\n",
    "\n",
    "\n",
    "limp_llmplaner_incontext_prompt = open(baseline_prompt_path, \"r\").read() \n",
    "limp_planner_output = limp_llm_plan(limp_llmplaner_incontext_prompt,instruction, passedin_intent_dict, baseline=baseline_choice, verbose=False)\n",
    "\n",
    "print(\"**************************************************\\nInstruction:\",instruction)\n",
    "print(f\"--------------------------------------------------\\nLLM Planner Output\\n--------------------------------------------------\\n{limp_planner_output}\\n**************************************************\")"
   ]
  },
  {
   "cell_type": "code",
   "execution_count": null,
   "metadata": {},
   "outputs": [],
   "source": []
  }
 ],
 "metadata": {
  "kernelspec": {
   "display_name": "limp",
   "language": "python",
   "name": "python3"
  },
  "language_info": {
   "codemirror_mode": {
    "name": "ipython",
    "version": 3
   },
   "file_extension": ".py",
   "mimetype": "text/x-python",
   "name": "python",
   "nbconvert_exporter": "python",
   "pygments_lexer": "ipython3",
   "version": "3.9.19"
  }
 },
 "nbformat": 4,
 "nbformat_minor": 2
}
