{
 "cells": [
  {
   "cell_type": "code",
   "execution_count": 8,
   "metadata": {},
   "outputs": [
    {
     "name": "stdout",
     "output_type": "stream",
     "text": [
      "The autoreload extension is already loaded. To reload it, use:\n",
      "  %reload_ext autoreload\n"
     ]
    }
   ],
   "source": [
    "%load_ext autoreload\n",
    "%autoreload 2\n",
    "from llm_utils import limp_llm_plan, build_intent_dict"
   ]
  },
  {
   "cell_type": "code",
   "execution_count": null,
   "metadata": {},
   "outputs": [],
   "source": [
    "## Test instructions:\n",
    "\"Pick up the book on the table with the red cover.\"\n",
    "\"Place the vase near the flowers on the table.\"\n",
    "\"Place the coke can beside the pringles on the counter.\"\n",
    "\"Bring the book and the magazine on the nightstand.\"\n",
    "\"Bring the mug from the table near the sink.\""
   ]
  },
  {
   "cell_type": "code",
   "execution_count": 2,
   "metadata": {},
   "outputs": [],
   "source": [
    "## Test example\n",
    "# Transcript: Place the Coke can beside the Pringles on the counter.\n",
    "\n",
    "# interpretation_1\n",
    "# \"Place the coke can (which is currently beside the pringles) on some counter.\"\n",
    "intent_labels_1 = {\"place\": 0, \"the\": 0, \"coke\": 1, \"can\": 1, \"beside\": 0, \"the\": 0, \"pringles\": 2, \"on\": 0, \"the\": 0, \"counter\": 1}\n",
    "\n",
    "\n",
    "# interpretation_2\n",
    "# \"Take the coke can (which is somewhere else) and place it beside the pringles (that are already on the counter).\",\n",
    "intent_labels_2 = {\"place\": 0,\"the\": 0,\"coke\": 1,\"can\": 1,\"beside\": 0,\"the\": 0,\"pringles\": 1,\"on\": 0,\"the\": 0,\"counter\": 2}\n"
   ]
  },
  {
   "cell_type": "code",
   "execution_count": 3,
   "metadata": {},
   "outputs": [],
   "source": [
    "instruction = input(\"Enter instruction: \")"
   ]
  },
  {
   "cell_type": "code",
   "execution_count": 6,
   "metadata": {},
   "outputs": [],
   "source": [
    "passedin_intent_dict = {'Goal_intent': ['coke', 'can', 'counter'],\n",
    " 'Avoidance_intent': [],\n",
    " 'Detail_intent': []}"
   ]
  },
  {
   "cell_type": "code",
   "execution_count": 12,
   "metadata": {},
   "outputs": [
    {
     "name": "stdout",
     "output_type": "stream",
     "text": [
      "\t\tModel: gpt-4o || Deterministic?: True\n",
      "**************************************************\n",
      "Instruction: Place the Coke can beside the Pringles on the counter\n",
      "--------------------------------------------------\n",
      "LLM Planner Output\n",
      "--------------------------------------------------\n",
      "1. near[coke_can]\n",
      "2. pick[coke_can]\n",
      "3. near[counter]\n",
      "4. release[coke_can,pringles::isnextto(counter)]\n",
      "**************************************************\n"
     ]
    }
   ],
   "source": [
    "baseline_prompt_path = \"prompts/baseline_asr_prompt.txt\"\n",
    "# baseline_prompt_path = \"prompts/prosody_intent_prompt.txt\"\n",
    "\n",
    "# passedin_intent_dict = build_intent_dict(intent_labels_2)\n",
    "limp_llmplaner_incontext_prompt = open(baseline_prompt_path, \"r\").read() \n",
    "limp_planner_output = limp_llm_plan(limp_llmplaner_incontext_prompt,instruction, passedin_intent_dict, verbose=False)\n",
    "print(\"**************************************************\\nInstruction:\",instruction)\n",
    "print(f\"--------------------------------------------------\\nLLM Planner Output\\n--------------------------------------------------\\n{limp_planner_output}\\n**************************************************\")"
   ]
  }
 ],
 "metadata": {
  "kernelspec": {
   "display_name": "limp",
   "language": "python",
   "name": "python3"
  },
  "language_info": {
   "codemirror_mode": {
    "name": "ipython",
    "version": 3
   },
   "file_extension": ".py",
   "mimetype": "text/x-python",
   "name": "python",
   "nbconvert_exporter": "python",
   "pygments_lexer": "ipython3",
   "version": "3.9.19"
  }
 },
 "nbformat": 4,
 "nbformat_minor": 2
}
